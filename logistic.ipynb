{
 "cells": [
  {
   "cell_type": "code",
   "execution_count": 1,
   "id": "c00a156f",
   "metadata": {},
   "outputs": [],
   "source": [
    "from sklearn.linear_model import LogisticRegression\n",
    "from sklearn.datasets import load_iris\n",
    "from sklearn.preprocessing import StandardScaler # mean - 0 & standard deviation - 1\n",
    "import matplotlib.pyplot as plt\n"
   ]
  },
  {
   "cell_type": "code",
   "execution_count": 2,
   "id": "4f4de68e",
   "metadata": {},
   "outputs": [],
   "source": [
    "iris=load_iris()\n"
   ]
  },
  {
   "cell_type": "code",
   "execution_count": 3,
   "id": "036e3f11",
   "metadata": {},
   "outputs": [
    {
     "data": {
      "text/plain": [
       "dict_keys(['data', 'target', 'frame', 'target_names', 'DESCR', 'feature_names', 'filename', 'data_module'])"
      ]
     },
     "execution_count": 3,
     "metadata": {},
     "output_type": "execute_result"
    }
   ],
   "source": [
    "iris.keys()"
   ]
  },
  {
   "cell_type": "code",
   "execution_count": 4,
   "id": "a72fec28",
   "metadata": {},
   "outputs": [
    {
     "name": "stdout",
     "output_type": "stream",
     "text": [
      ".. _iris_dataset:\n",
      "\n",
      "Iris plants dataset\n",
      "--------------------\n",
      "\n",
      "**Data Set Characteristics:**\n",
      "\n",
      "    :Number of Instances: 150 (50 in each of three classes)\n",
      "    :Number of Attributes: 4 numeric, predictive attributes and the class\n",
      "    :Attribute Information:\n",
      "        - sepal length in cm\n",
      "        - sepal width in cm\n",
      "        - petal length in cm\n",
      "        - petal width in cm\n",
      "        - class:\n",
      "                - Iris-Setosa\n",
      "                - Iris-Versicolour\n",
      "                - Iris-Virginica\n",
      "                \n",
      "    :Summary Statistics:\n",
      "\n",
      "    ============== ==== ==== ======= ===== ====================\n",
      "                    Min  Max   Mean    SD   Class Correlation\n",
      "    ============== ==== ==== ======= ===== ====================\n",
      "    sepal length:   4.3  7.9   5.84   0.83    0.7826\n",
      "    sepal width:    2.0  4.4   3.05   0.43   -0.4194\n",
      "    petal length:   1.0  6.9   3.76   1.76    0.9490  (high!)\n",
      "    petal width:    0.1  2.5   1.20   0.76    0.9565  (high!)\n",
      "    ============== ==== ==== ======= ===== ====================\n",
      "\n",
      "    :Missing Attribute Values: None\n",
      "    :Class Distribution: 33.3% for each of 3 classes.\n",
      "    :Creator: R.A. Fisher\n",
      "    :Donor: Michael Marshall (MARSHALL%PLU@io.arc.nasa.gov)\n",
      "    :Date: July, 1988\n",
      "\n",
      "The famous Iris database, first used by Sir R.A. Fisher. The dataset is taken\n",
      "from Fisher's paper. Note that it's the same as in R, but not as in the UCI\n",
      "Machine Learning Repository, which has two wrong data points.\n",
      "\n",
      "This is perhaps the best known database to be found in the\n",
      "pattern recognition literature.  Fisher's paper is a classic in the field and\n",
      "is referenced frequently to this day.  (See Duda & Hart, for example.)  The\n",
      "data set contains 3 classes of 50 instances each, where each class refers to a\n",
      "type of iris plant.  One class is linearly separable from the other 2; the\n",
      "latter are NOT linearly separable from each other.\n",
      "\n",
      ".. topic:: References\n",
      "\n",
      "   - Fisher, R.A. \"The use of multiple measurements in taxonomic problems\"\n",
      "     Annual Eugenics, 7, Part II, 179-188 (1936); also in \"Contributions to\n",
      "     Mathematical Statistics\" (John Wiley, NY, 1950).\n",
      "   - Duda, R.O., & Hart, P.E. (1973) Pattern Classification and Scene Analysis.\n",
      "     (Q327.D83) John Wiley & Sons.  ISBN 0-471-22361-1.  See page 218.\n",
      "   - Dasarathy, B.V. (1980) \"Nosing Around the Neighborhood: A New System\n",
      "     Structure and Classification Rule for Recognition in Partially Exposed\n",
      "     Environments\".  IEEE Transactions on Pattern Analysis and Machine\n",
      "     Intelligence, Vol. PAMI-2, No. 1, 67-71.\n",
      "   - Gates, G.W. (1972) \"The Reduced Nearest Neighbor Rule\".  IEEE Transactions\n",
      "     on Information Theory, May 1972, 431-433.\n",
      "   - See also: 1988 MLC Proceedings, 54-64.  Cheeseman et al\"s AUTOCLASS II\n",
      "     conceptual clustering system finds 3 classes in the data.\n",
      "   - Many, many more ...\n"
     ]
    }
   ],
   "source": [
    "print(iris.DESCR)\n"
   ]
  },
  {
   "cell_type": "code",
   "execution_count": 5,
   "id": "0b2d2734",
   "metadata": {},
   "outputs": [
    {
     "data": {
      "text/plain": [
       "['sepal length (cm)',\n",
       " 'sepal width (cm)',\n",
       " 'petal length (cm)',\n",
       " 'petal width (cm)']"
      ]
     },
     "execution_count": 5,
     "metadata": {},
     "output_type": "execute_result"
    }
   ],
   "source": [
    "iris.feature_names # feature means  columns in dataset"
   ]
  },
  {
   "cell_type": "code",
   "execution_count": null,
   "id": "500d902d",
   "metadata": {},
   "outputs": [],
   "source": []
  },
  {
   "cell_type": "code",
   "execution_count": null,
   "id": "9366693f",
   "metadata": {},
   "outputs": [],
   "source": []
  },
  {
   "cell_type": "code",
   "execution_count": null,
   "id": "1f5df875",
   "metadata": {},
   "outputs": [],
   "source": []
  },
  {
   "cell_type": "code",
   "execution_count": 6,
   "id": "55c44640",
   "metadata": {},
   "outputs": [
    {
     "data": {
      "text/plain": [
       "array([[5.1, 3.5, 1.4, 0.2],\n",
       "       [4.9, 3. , 1.4, 0.2],\n",
       "       [4.7, 3.2, 1.3, 0.2],\n",
       "       [4.6, 3.1, 1.5, 0.2],\n",
       "       [5. , 3.6, 1.4, 0.2],\n",
       "       [5.4, 3.9, 1.7, 0.4],\n",
       "       [4.6, 3.4, 1.4, 0.3],\n",
       "       [5. , 3.4, 1.5, 0.2],\n",
       "       [4.4, 2.9, 1.4, 0.2],\n",
       "       [4.9, 3.1, 1.5, 0.1],\n",
       "       [5.4, 3.7, 1.5, 0.2],\n",
       "       [4.8, 3.4, 1.6, 0.2],\n",
       "       [4.8, 3. , 1.4, 0.1],\n",
       "       [4.3, 3. , 1.1, 0.1],\n",
       "       [5.8, 4. , 1.2, 0.2],\n",
       "       [5.7, 4.4, 1.5, 0.4],\n",
       "       [5.4, 3.9, 1.3, 0.4],\n",
       "       [5.1, 3.5, 1.4, 0.3],\n",
       "       [5.7, 3.8, 1.7, 0.3],\n",
       "       [5.1, 3.8, 1.5, 0.3],\n",
       "       [5.4, 3.4, 1.7, 0.2],\n",
       "       [5.1, 3.7, 1.5, 0.4],\n",
       "       [4.6, 3.6, 1. , 0.2],\n",
       "       [5.1, 3.3, 1.7, 0.5],\n",
       "       [4.8, 3.4, 1.9, 0.2],\n",
       "       [5. , 3. , 1.6, 0.2],\n",
       "       [5. , 3.4, 1.6, 0.4],\n",
       "       [5.2, 3.5, 1.5, 0.2],\n",
       "       [5.2, 3.4, 1.4, 0.2],\n",
       "       [4.7, 3.2, 1.6, 0.2],\n",
       "       [4.8, 3.1, 1.6, 0.2],\n",
       "       [5.4, 3.4, 1.5, 0.4],\n",
       "       [5.2, 4.1, 1.5, 0.1],\n",
       "       [5.5, 4.2, 1.4, 0.2],\n",
       "       [4.9, 3.1, 1.5, 0.2],\n",
       "       [5. , 3.2, 1.2, 0.2],\n",
       "       [5.5, 3.5, 1.3, 0.2],\n",
       "       [4.9, 3.6, 1.4, 0.1],\n",
       "       [4.4, 3. , 1.3, 0.2],\n",
       "       [5.1, 3.4, 1.5, 0.2],\n",
       "       [5. , 3.5, 1.3, 0.3],\n",
       "       [4.5, 2.3, 1.3, 0.3],\n",
       "       [4.4, 3.2, 1.3, 0.2],\n",
       "       [5. , 3.5, 1.6, 0.6],\n",
       "       [5.1, 3.8, 1.9, 0.4],\n",
       "       [4.8, 3. , 1.4, 0.3],\n",
       "       [5.1, 3.8, 1.6, 0.2],\n",
       "       [4.6, 3.2, 1.4, 0.2],\n",
       "       [5.3, 3.7, 1.5, 0.2],\n",
       "       [5. , 3.3, 1.4, 0.2],\n",
       "       [7. , 3.2, 4.7, 1.4],\n",
       "       [6.4, 3.2, 4.5, 1.5],\n",
       "       [6.9, 3.1, 4.9, 1.5],\n",
       "       [5.5, 2.3, 4. , 1.3],\n",
       "       [6.5, 2.8, 4.6, 1.5],\n",
       "       [5.7, 2.8, 4.5, 1.3],\n",
       "       [6.3, 3.3, 4.7, 1.6],\n",
       "       [4.9, 2.4, 3.3, 1. ],\n",
       "       [6.6, 2.9, 4.6, 1.3],\n",
       "       [5.2, 2.7, 3.9, 1.4],\n",
       "       [5. , 2. , 3.5, 1. ],\n",
       "       [5.9, 3. , 4.2, 1.5],\n",
       "       [6. , 2.2, 4. , 1. ],\n",
       "       [6.1, 2.9, 4.7, 1.4],\n",
       "       [5.6, 2.9, 3.6, 1.3],\n",
       "       [6.7, 3.1, 4.4, 1.4],\n",
       "       [5.6, 3. , 4.5, 1.5],\n",
       "       [5.8, 2.7, 4.1, 1. ],\n",
       "       [6.2, 2.2, 4.5, 1.5],\n",
       "       [5.6, 2.5, 3.9, 1.1],\n",
       "       [5.9, 3.2, 4.8, 1.8],\n",
       "       [6.1, 2.8, 4. , 1.3],\n",
       "       [6.3, 2.5, 4.9, 1.5],\n",
       "       [6.1, 2.8, 4.7, 1.2],\n",
       "       [6.4, 2.9, 4.3, 1.3],\n",
       "       [6.6, 3. , 4.4, 1.4],\n",
       "       [6.8, 2.8, 4.8, 1.4],\n",
       "       [6.7, 3. , 5. , 1.7],\n",
       "       [6. , 2.9, 4.5, 1.5],\n",
       "       [5.7, 2.6, 3.5, 1. ],\n",
       "       [5.5, 2.4, 3.8, 1.1],\n",
       "       [5.5, 2.4, 3.7, 1. ],\n",
       "       [5.8, 2.7, 3.9, 1.2],\n",
       "       [6. , 2.7, 5.1, 1.6],\n",
       "       [5.4, 3. , 4.5, 1.5],\n",
       "       [6. , 3.4, 4.5, 1.6],\n",
       "       [6.7, 3.1, 4.7, 1.5],\n",
       "       [6.3, 2.3, 4.4, 1.3],\n",
       "       [5.6, 3. , 4.1, 1.3],\n",
       "       [5.5, 2.5, 4. , 1.3],\n",
       "       [5.5, 2.6, 4.4, 1.2],\n",
       "       [6.1, 3. , 4.6, 1.4],\n",
       "       [5.8, 2.6, 4. , 1.2],\n",
       "       [5. , 2.3, 3.3, 1. ],\n",
       "       [5.6, 2.7, 4.2, 1.3],\n",
       "       [5.7, 3. , 4.2, 1.2],\n",
       "       [5.7, 2.9, 4.2, 1.3],\n",
       "       [6.2, 2.9, 4.3, 1.3],\n",
       "       [5.1, 2.5, 3. , 1.1],\n",
       "       [5.7, 2.8, 4.1, 1.3],\n",
       "       [6.3, 3.3, 6. , 2.5],\n",
       "       [5.8, 2.7, 5.1, 1.9],\n",
       "       [7.1, 3. , 5.9, 2.1],\n",
       "       [6.3, 2.9, 5.6, 1.8],\n",
       "       [6.5, 3. , 5.8, 2.2],\n",
       "       [7.6, 3. , 6.6, 2.1],\n",
       "       [4.9, 2.5, 4.5, 1.7],\n",
       "       [7.3, 2.9, 6.3, 1.8],\n",
       "       [6.7, 2.5, 5.8, 1.8],\n",
       "       [7.2, 3.6, 6.1, 2.5],\n",
       "       [6.5, 3.2, 5.1, 2. ],\n",
       "       [6.4, 2.7, 5.3, 1.9],\n",
       "       [6.8, 3. , 5.5, 2.1],\n",
       "       [5.7, 2.5, 5. , 2. ],\n",
       "       [5.8, 2.8, 5.1, 2.4],\n",
       "       [6.4, 3.2, 5.3, 2.3],\n",
       "       [6.5, 3. , 5.5, 1.8],\n",
       "       [7.7, 3.8, 6.7, 2.2],\n",
       "       [7.7, 2.6, 6.9, 2.3],\n",
       "       [6. , 2.2, 5. , 1.5],\n",
       "       [6.9, 3.2, 5.7, 2.3],\n",
       "       [5.6, 2.8, 4.9, 2. ],\n",
       "       [7.7, 2.8, 6.7, 2. ],\n",
       "       [6.3, 2.7, 4.9, 1.8],\n",
       "       [6.7, 3.3, 5.7, 2.1],\n",
       "       [7.2, 3.2, 6. , 1.8],\n",
       "       [6.2, 2.8, 4.8, 1.8],\n",
       "       [6.1, 3. , 4.9, 1.8],\n",
       "       [6.4, 2.8, 5.6, 2.1],\n",
       "       [7.2, 3. , 5.8, 1.6],\n",
       "       [7.4, 2.8, 6.1, 1.9],\n",
       "       [7.9, 3.8, 6.4, 2. ],\n",
       "       [6.4, 2.8, 5.6, 2.2],\n",
       "       [6.3, 2.8, 5.1, 1.5],\n",
       "       [6.1, 2.6, 5.6, 1.4],\n",
       "       [7.7, 3. , 6.1, 2.3],\n",
       "       [6.3, 3.4, 5.6, 2.4],\n",
       "       [6.4, 3.1, 5.5, 1.8],\n",
       "       [6. , 3. , 4.8, 1.8],\n",
       "       [6.9, 3.1, 5.4, 2.1],\n",
       "       [6.7, 3.1, 5.6, 2.4],\n",
       "       [6.9, 3.1, 5.1, 2.3],\n",
       "       [5.8, 2.7, 5.1, 1.9],\n",
       "       [6.8, 3.2, 5.9, 2.3],\n",
       "       [6.7, 3.3, 5.7, 2.5],\n",
       "       [6.7, 3. , 5.2, 2.3],\n",
       "       [6.3, 2.5, 5. , 1.9],\n",
       "       [6.5, 3. , 5.2, 2. ],\n",
       "       [6.2, 3.4, 5.4, 2.3],\n",
       "       [5.9, 3. , 5.1, 1.8]])"
      ]
     },
     "execution_count": 6,
     "metadata": {},
     "output_type": "execute_result"
    }
   ],
   "source": [
    "iris.data"
   ]
  },
  {
   "cell_type": "code",
   "execution_count": 7,
   "id": "13f57454",
   "metadata": {},
   "outputs": [
    {
     "data": {
      "text/plain": [
       "['sepal length (cm)',\n",
       " 'sepal width (cm)',\n",
       " 'petal length (cm)',\n",
       " 'petal width (cm)']"
      ]
     },
     "execution_count": 7,
     "metadata": {},
     "output_type": "execute_result"
    }
   ],
   "source": [
    "iris.feature_names"
   ]
  },
  {
   "cell_type": "code",
   "execution_count": 8,
   "id": "1ad7b077",
   "metadata": {},
   "outputs": [
    {
     "data": {
      "text/plain": [
       "150"
      ]
     },
     "execution_count": 8,
     "metadata": {},
     "output_type": "execute_result"
    }
   ],
   "source": [
    "len(iris.data)\n"
   ]
  },
  {
   "cell_type": "code",
   "execution_count": 9,
   "id": "17498240",
   "metadata": {},
   "outputs": [
    {
     "data": {
      "text/plain": [
       "array([0, 0, 0, 0, 0, 0, 0, 0, 0, 0, 0, 0, 0, 0, 0, 0, 0, 0, 0, 0, 0, 0,\n",
       "       0, 0, 0, 0, 0, 0, 0, 0, 0, 0, 0, 0, 0, 0, 0, 0, 0, 0, 0, 0, 0, 0,\n",
       "       0, 0, 0, 0, 0, 0, 1, 1, 1, 1, 1, 1, 1, 1, 1, 1, 1, 1, 1, 1, 1, 1,\n",
       "       1, 1, 1, 1, 1, 1, 1, 1, 1, 1, 1, 1, 1, 1, 1, 1, 1, 1, 1, 1, 1, 1,\n",
       "       1, 1, 1, 1, 1, 1, 1, 1, 1, 1, 1, 1, 2, 2, 2, 2, 2, 2, 2, 2, 2, 2,\n",
       "       2, 2, 2, 2, 2, 2, 2, 2, 2, 2, 2, 2, 2, 2, 2, 2, 2, 2, 2, 2, 2, 2,\n",
       "       2, 2, 2, 2, 2, 2, 2, 2, 2, 2, 2, 2, 2, 2, 2, 2, 2, 2])"
      ]
     },
     "execution_count": 9,
     "metadata": {},
     "output_type": "execute_result"
    }
   ],
   "source": [
    "iris.target"
   ]
  },
  {
   "cell_type": "code",
   "execution_count": 10,
   "id": "191a0544",
   "metadata": {},
   "outputs": [
    {
     "data": {
      "text/plain": [
       "array([0, 0, 0, 0, 0, 0, 0, 0, 0, 0, 0, 0, 0, 0, 0, 0, 0, 0, 0, 0, 0, 0,\n",
       "       0, 0, 0, 0, 0, 0, 0, 0, 0, 0, 0, 0, 0, 0, 0, 0, 0, 0, 0, 0, 0, 0,\n",
       "       0, 0, 0, 0, 0, 0])"
      ]
     },
     "execution_count": 10,
     "metadata": {},
     "output_type": "execute_result"
    }
   ],
   "source": [
    "iris.target[0:50] # first 50 data - iris setosa"
   ]
  },
  {
   "cell_type": "code",
   "execution_count": 11,
   "id": "fe318a4b",
   "metadata": {},
   "outputs": [
    {
     "data": {
      "text/plain": [
       "array([1, 1, 1, 1, 1, 1, 1, 1, 1, 1, 1, 1, 1, 1, 1, 1, 1, 1, 1, 1, 1, 1,\n",
       "       1, 1, 1, 1, 1, 1, 1, 1, 1, 1, 1, 1, 1, 1, 1, 1, 1, 1, 1, 1, 1, 1,\n",
       "       1, 1, 1, 1, 1, 1])"
      ]
     },
     "execution_count": 11,
     "metadata": {},
     "output_type": "execute_result"
    }
   ],
   "source": [
    "iris.target[50:100] # 51 - 100 - versicolor\n"
   ]
  },
  {
   "cell_type": "code",
   "execution_count": 12,
   "id": "34cdb4e5",
   "metadata": {},
   "outputs": [
    {
     "data": {
      "text/plain": [
       "array([2, 2, 2, 2, 2, 2, 2, 2, 2, 2, 2, 2, 2, 2, 2, 2, 2, 2, 2, 2, 2, 2,\n",
       "       2, 2, 2, 2, 2, 2, 2, 2, 2, 2, 2, 2, 2, 2, 2, 2, 2, 2, 2, 2, 2, 2,\n",
       "       2, 2, 2, 2, 2, 2])"
      ]
     },
     "execution_count": 12,
     "metadata": {},
     "output_type": "execute_result"
    }
   ],
   "source": [
    "iris.target[100:150]# 101-150 = virginica"
   ]
  },
  {
   "cell_type": "code",
   "execution_count": 13,
   "id": "c7ab0135",
   "metadata": {},
   "outputs": [
    {
     "data": {
      "text/plain": [
       "array(['setosa', 'versicolor', 'virginica'], dtype='<U10')"
      ]
     },
     "execution_count": 13,
     "metadata": {},
     "output_type": "execute_result"
    }
   ],
   "source": [
    "iris.target_names"
   ]
  },
  {
   "cell_type": "code",
   "execution_count": 14,
   "id": "b7724765",
   "metadata": {},
   "outputs": [],
   "source": [
    "# feature scaling for better understanding\n",
    "\n",
    "x = iris.data[0:100,:] # picks first 100 data with 4 columns ( 100 * 4)\n",
    "y = iris.target[0:100] # (100,)\n"
   ]
  },
  {
   "cell_type": "code",
   "execution_count": 15,
   "id": "b36cfb83",
   "metadata": {},
   "outputs": [
    {
     "data": {
      "text/plain": [
       "(100, 4)"
      ]
     },
     "execution_count": 15,
     "metadata": {},
     "output_type": "execute_result"
    }
   ],
   "source": [
    "x.shape"
   ]
  },
  {
   "cell_type": "code",
   "execution_count": 16,
   "id": "55a32b48",
   "metadata": {},
   "outputs": [
    {
     "data": {
      "text/plain": [
       "(100,)"
      ]
     },
     "execution_count": 16,
     "metadata": {},
     "output_type": "execute_result"
    }
   ],
   "source": [
    "y.shape"
   ]
  },
  {
   "cell_type": "code",
   "execution_count": 17,
   "id": "0a17f97c",
   "metadata": {},
   "outputs": [
    {
     "data": {
      "text/plain": [
       "100"
      ]
     },
     "execution_count": 17,
     "metadata": {},
     "output_type": "execute_result"
    }
   ],
   "source": [
    "len(x)"
   ]
  },
  {
   "cell_type": "code",
   "execution_count": 18,
   "id": "9b28cc6f",
   "metadata": {},
   "outputs": [
    {
     "data": {
      "text/plain": [
       "array([[-5.81065904e-01,  8.41837140e-01, -1.01297765e+00,\n",
       "        -1.04211089e+00],\n",
       "       [-8.94308978e-01, -2.07835104e-01, -1.01297765e+00,\n",
       "        -1.04211089e+00],\n",
       "       [-1.20755205e+00,  2.12033793e-01, -1.08231219e+00,\n",
       "        -1.04211089e+00],\n",
       "       [-1.36417359e+00,  2.09934449e-03, -9.43643106e-01,\n",
       "        -1.04211089e+00],\n",
       "       [-7.37687441e-01,  1.05177159e+00, -1.01297765e+00,\n",
       "        -1.04211089e+00],\n",
       "       [-1.11201292e-01,  1.68157493e+00, -8.04974023e-01,\n",
       "        -6.86441647e-01],\n",
       "       [-1.36417359e+00,  6.31902691e-01, -1.01297765e+00,\n",
       "        -8.64276271e-01],\n",
       "       [-7.37687441e-01,  6.31902691e-01, -9.43643106e-01,\n",
       "        -1.04211089e+00],\n",
       "       [-1.67741667e+00, -4.17769553e-01, -1.01297765e+00,\n",
       "        -1.04211089e+00],\n",
       "       [-8.94308978e-01,  2.09934449e-03, -9.43643106e-01,\n",
       "        -1.21994552e+00],\n",
       "       [-1.11201292e-01,  1.26170604e+00, -9.43643106e-01,\n",
       "        -1.04211089e+00],\n",
       "       [-1.05093052e+00,  6.31902691e-01, -8.74308565e-01,\n",
       "        -1.04211089e+00],\n",
       "       [-1.05093052e+00, -2.07835104e-01, -1.01297765e+00,\n",
       "        -1.21994552e+00],\n",
       "       [-1.83403820e+00, -2.07835104e-01, -1.22098127e+00,\n",
       "        -1.21994552e+00],\n",
       "       [ 5.15284858e-01,  1.89150938e+00, -1.15164673e+00,\n",
       "        -1.04211089e+00],\n",
       "       [ 3.58663321e-01,  2.73124718e+00, -9.43643106e-01,\n",
       "        -6.86441647e-01],\n",
       "       [-1.11201292e-01,  1.68157493e+00, -1.08231219e+00,\n",
       "        -6.86441647e-01],\n",
       "       [-5.81065904e-01,  8.41837140e-01, -1.01297765e+00,\n",
       "        -8.64276271e-01],\n",
       "       [ 3.58663321e-01,  1.47164049e+00, -8.04974023e-01,\n",
       "        -8.64276271e-01],\n",
       "       [-5.81065904e-01,  1.47164049e+00, -9.43643106e-01,\n",
       "        -8.64276271e-01],\n",
       "       [-1.11201292e-01,  6.31902691e-01, -8.04974023e-01,\n",
       "        -1.04211089e+00],\n",
       "       [-5.81065904e-01,  1.26170604e+00, -9.43643106e-01,\n",
       "        -6.86441647e-01],\n",
       "       [-1.36417359e+00,  1.05177159e+00, -1.29031581e+00,\n",
       "        -1.04211089e+00],\n",
       "       [-5.81065904e-01,  4.21968242e-01, -8.04974023e-01,\n",
       "        -5.08607024e-01],\n",
       "       [-1.05093052e+00,  6.31902691e-01, -6.66304941e-01,\n",
       "        -1.04211089e+00],\n",
       "       [-7.37687441e-01, -2.07835104e-01, -8.74308565e-01,\n",
       "        -1.04211089e+00],\n",
       "       [-7.37687441e-01,  6.31902691e-01, -8.74308565e-01,\n",
       "        -6.86441647e-01],\n",
       "       [-4.24444366e-01,  8.41837140e-01, -9.43643106e-01,\n",
       "        -1.04211089e+00],\n",
       "       [-4.24444366e-01,  6.31902691e-01, -1.01297765e+00,\n",
       "        -1.04211089e+00],\n",
       "       [-1.20755205e+00,  2.12033793e-01, -8.74308565e-01,\n",
       "        -1.04211089e+00],\n",
       "       [-1.05093052e+00,  2.09934449e-03, -8.74308565e-01,\n",
       "        -1.04211089e+00],\n",
       "       [-1.11201292e-01,  6.31902691e-01, -9.43643106e-01,\n",
       "        -6.86441647e-01],\n",
       "       [-4.24444366e-01,  2.10144383e+00, -9.43643106e-01,\n",
       "        -1.21994552e+00],\n",
       "       [ 4.54202458e-02,  2.31137828e+00, -1.01297765e+00,\n",
       "        -1.04211089e+00],\n",
       "       [-8.94308978e-01,  2.09934449e-03, -9.43643106e-01,\n",
       "        -1.04211089e+00],\n",
       "       [-7.37687441e-01,  2.12033793e-01, -1.15164673e+00,\n",
       "        -1.04211089e+00],\n",
       "       [ 4.54202458e-02,  8.41837140e-01, -1.08231219e+00,\n",
       "        -1.04211089e+00],\n",
       "       [-8.94308978e-01,  1.05177159e+00, -1.01297765e+00,\n",
       "        -1.21994552e+00],\n",
       "       [-1.67741667e+00, -2.07835104e-01, -1.08231219e+00,\n",
       "        -1.04211089e+00],\n",
       "       [-5.81065904e-01,  6.31902691e-01, -9.43643106e-01,\n",
       "        -1.04211089e+00],\n",
       "       [-7.37687441e-01,  8.41837140e-01, -1.08231219e+00,\n",
       "        -8.64276271e-01],\n",
       "       [-1.52079513e+00, -1.67737625e+00, -1.08231219e+00,\n",
       "        -8.64276271e-01],\n",
       "       [-1.67741667e+00,  2.12033793e-01, -1.08231219e+00,\n",
       "        -1.04211089e+00],\n",
       "       [-7.37687441e-01,  8.41837140e-01, -8.74308565e-01,\n",
       "        -3.30772400e-01],\n",
       "       [-5.81065904e-01,  1.47164049e+00, -6.66304941e-01,\n",
       "        -6.86441647e-01],\n",
       "       [-1.05093052e+00, -2.07835104e-01, -1.01297765e+00,\n",
       "        -8.64276271e-01],\n",
       "       [-5.81065904e-01,  1.47164049e+00, -8.74308565e-01,\n",
       "        -1.04211089e+00],\n",
       "       [-1.36417359e+00,  2.12033793e-01, -1.01297765e+00,\n",
       "        -1.04211089e+00],\n",
       "       [-2.67822829e-01,  1.26170604e+00, -9.43643106e-01,\n",
       "        -1.04211089e+00],\n",
       "       [-7.37687441e-01,  4.21968242e-01, -1.01297765e+00,\n",
       "        -1.04211089e+00],\n",
       "       [ 2.39474331e+00,  2.12033793e-01,  1.27506221e+00,\n",
       "         1.09190459e+00],\n",
       "       [ 1.45501408e+00,  2.12033793e-01,  1.13639313e+00,\n",
       "         1.26973921e+00],\n",
       "       [ 2.23812177e+00,  2.09934449e-03,  1.41373130e+00,\n",
       "         1.26973921e+00],\n",
       "       [ 4.54202458e-02, -1.67737625e+00,  7.89720424e-01,\n",
       "         9.14069966e-01],\n",
       "       [ 1.61163562e+00, -6.27704002e-01,  1.20572767e+00,\n",
       "         1.26973921e+00],\n",
       "       [ 3.58663321e-01, -6.27704002e-01,  1.13639313e+00,\n",
       "         9.14069966e-01],\n",
       "       [ 1.29839254e+00,  4.21968242e-01,  1.27506221e+00,\n",
       "         1.44757384e+00],\n",
       "       [-8.94308978e-01, -1.46744180e+00,  3.04378636e-01,\n",
       "         3.80566095e-01],\n",
       "       [ 1.76825716e+00, -4.17769553e-01,  1.20572767e+00,\n",
       "         9.14069966e-01],\n",
       "       [-4.24444366e-01, -8.37638451e-01,  7.20385883e-01,\n",
       "         1.09190459e+00],\n",
       "       [-7.37687441e-01, -2.30717959e+00,  4.43047718e-01,\n",
       "         3.80566095e-01],\n",
       "       [ 6.71906395e-01, -2.07835104e-01,  9.28389507e-01,\n",
       "         1.26973921e+00],\n",
       "       [ 8.28527933e-01, -1.88731069e+00,  7.89720424e-01,\n",
       "         3.80566095e-01],\n",
       "       [ 9.85149470e-01, -4.17769553e-01,  1.27506221e+00,\n",
       "         1.09190459e+00],\n",
       "       [ 2.02041783e-01, -4.17769553e-01,  5.12382260e-01,\n",
       "         9.14069966e-01],\n",
       "       [ 1.92487869e+00,  2.09934449e-03,  1.06705859e+00,\n",
       "         1.09190459e+00],\n",
       "       [ 2.02041783e-01, -2.07835104e-01,  1.13639313e+00,\n",
       "         1.26973921e+00],\n",
       "       [ 5.15284858e-01, -8.37638451e-01,  8.59054966e-01,\n",
       "         3.80566095e-01],\n",
       "       [ 1.14177101e+00, -1.88731069e+00,  1.13639313e+00,\n",
       "         1.26973921e+00],\n",
       "       [ 2.02041783e-01, -1.25750735e+00,  7.20385883e-01,\n",
       "         5.58400718e-01],\n",
       "       [ 6.71906395e-01,  2.12033793e-01,  1.34439675e+00,\n",
       "         1.80324308e+00],\n",
       "       [ 9.85149470e-01, -6.27704002e-01,  7.89720424e-01,\n",
       "         9.14069966e-01],\n",
       "       [ 1.29839254e+00, -1.25750735e+00,  1.41373130e+00,\n",
       "         1.26973921e+00],\n",
       "       [ 9.85149470e-01, -6.27704002e-01,  1.27506221e+00,\n",
       "         7.36235342e-01],\n",
       "       [ 1.45501408e+00, -4.17769553e-01,  9.97724048e-01,\n",
       "         9.14069966e-01],\n",
       "       [ 1.76825716e+00, -2.07835104e-01,  1.06705859e+00,\n",
       "         1.09190459e+00],\n",
       "       [ 2.08150023e+00, -6.27704002e-01,  1.34439675e+00,\n",
       "         1.09190459e+00],\n",
       "       [ 1.92487869e+00, -2.07835104e-01,  1.48306584e+00,\n",
       "         1.62540846e+00],\n",
       "       [ 8.28527933e-01, -4.17769553e-01,  1.13639313e+00,\n",
       "         1.26973921e+00],\n",
       "       [ 3.58663321e-01, -1.04757290e+00,  4.43047718e-01,\n",
       "         3.80566095e-01],\n",
       "       [ 4.54202458e-02, -1.46744180e+00,  6.51051342e-01,\n",
       "         5.58400718e-01],\n",
       "       [ 4.54202458e-02, -1.46744180e+00,  5.81716801e-01,\n",
       "         3.80566095e-01],\n",
       "       [ 5.15284858e-01, -8.37638451e-01,  7.20385883e-01,\n",
       "         7.36235342e-01],\n",
       "       [ 8.28527933e-01, -8.37638451e-01,  1.55240038e+00,\n",
       "         1.44757384e+00],\n",
       "       [-1.11201292e-01, -2.07835104e-01,  1.13639313e+00,\n",
       "         1.26973921e+00],\n",
       "       [ 8.28527933e-01,  6.31902691e-01,  1.13639313e+00,\n",
       "         1.44757384e+00],\n",
       "       [ 1.92487869e+00,  2.09934449e-03,  1.27506221e+00,\n",
       "         1.26973921e+00],\n",
       "       [ 1.29839254e+00, -1.67737625e+00,  1.06705859e+00,\n",
       "         9.14069966e-01],\n",
       "       [ 2.02041783e-01, -2.07835104e-01,  8.59054966e-01,\n",
       "         9.14069966e-01],\n",
       "       [ 4.54202458e-02, -1.25750735e+00,  7.89720424e-01,\n",
       "         9.14069966e-01],\n",
       "       [ 4.54202458e-02, -1.04757290e+00,  1.06705859e+00,\n",
       "         7.36235342e-01],\n",
       "       [ 9.85149470e-01, -2.07835104e-01,  1.20572767e+00,\n",
       "         1.09190459e+00],\n",
       "       [ 5.15284858e-01, -1.04757290e+00,  7.89720424e-01,\n",
       "         7.36235342e-01],\n",
       "       [-7.37687441e-01, -1.67737625e+00,  3.04378636e-01,\n",
       "         3.80566095e-01],\n",
       "       [ 2.02041783e-01, -8.37638451e-01,  9.28389507e-01,\n",
       "         9.14069966e-01],\n",
       "       [ 3.58663321e-01, -2.07835104e-01,  9.28389507e-01,\n",
       "         7.36235342e-01],\n",
       "       [ 3.58663321e-01, -4.17769553e-01,  9.28389507e-01,\n",
       "         9.14069966e-01],\n",
       "       [ 1.14177101e+00, -4.17769553e-01,  9.97724048e-01,\n",
       "         9.14069966e-01],\n",
       "       [-5.81065904e-01, -1.25750735e+00,  9.63750123e-02,\n",
       "         5.58400718e-01],\n",
       "       [ 3.58663321e-01, -6.27704002e-01,  8.59054966e-01,\n",
       "         9.14069966e-01]])"
      ]
     },
     "execution_count": 18,
     "metadata": {},
     "output_type": "execute_result"
    }
   ],
   "source": [
    "scr = StandardScaler() # normalize -( mean = 0 , standard deviation = 1)\n",
    "sx = scr.fit_transform(x)\n",
    "sx\n"
   ]
  },
  {
   "cell_type": "code",
   "execution_count": 19,
   "id": "7b0ca0fb",
   "metadata": {},
   "outputs": [],
   "source": [
    "log_reg = LogisticRegression(random_state=1)# randomstate should be an integer number\n",
    "model = log_reg.fit(sx,y) # sx - preporcessed x values, y - target value\n"
   ]
  },
  {
   "cell_type": "code",
   "execution_count": 20,
   "id": "6ec92d47",
   "metadata": {},
   "outputs": [
    {
     "data": {
      "text/plain": [
       "1.0"
      ]
     },
     "execution_count": 20,
     "metadata": {},
     "output_type": "execute_result"
    }
   ],
   "source": [
    "model.score(sx,y)"
   ]
  },
  {
   "cell_type": "code",
   "execution_count": 21,
   "id": "62b86fcb",
   "metadata": {},
   "outputs": [
    {
     "data": {
      "text/plain": [
       "array([1])"
      ]
     },
     "execution_count": 21,
     "metadata": {},
     "output_type": "execute_result"
    }
   ],
   "source": [
    "newdata = [[1.4,3.9,1.5,2.2]]\n",
    "model.predict(newdata)\n"
   ]
  },
  {
   "cell_type": "code",
   "execution_count": 22,
   "id": "abe852bb",
   "metadata": {},
   "outputs": [
    {
     "data": {
      "text/plain": [
       "array([[ 7.671067, 92.328933]])"
      ]
     },
     "execution_count": 22,
     "metadata": {},
     "output_type": "execute_result"
    }
   ],
   "source": [
    "model.predict_proba(newdata)*100\n",
    "# 0 - setosa\n",
    "# 1 - versicolor"
   ]
  },
  {
   "cell_type": "code",
   "execution_count": 23,
   "id": "f541762c",
   "metadata": {},
   "outputs": [],
   "source": [
    "# sigmoid - (0-0.5 = 0)\n",
    "# (0.51 - 1.0 = 1)"
   ]
  },
  {
   "cell_type": "code",
   "execution_count": null,
   "id": "917a7367",
   "metadata": {},
   "outputs": [],
   "source": []
  },
  {
   "cell_type": "code",
   "execution_count": null,
   "id": "b17bdac4",
   "metadata": {},
   "outputs": [],
   "source": []
  }
 ],
 "metadata": {
  "kernelspec": {
   "display_name": "Python 3 (ipykernel)",
   "language": "python",
   "name": "python3"
  },
  "language_info": {
   "codemirror_mode": {
    "name": "ipython",
    "version": 3
   },
   "file_extension": ".py",
   "mimetype": "text/x-python",
   "name": "python",
   "nbconvert_exporter": "python",
   "pygments_lexer": "ipython3",
   "version": "3.10.9"
  }
 },
 "nbformat": 4,
 "nbformat_minor": 5
}
