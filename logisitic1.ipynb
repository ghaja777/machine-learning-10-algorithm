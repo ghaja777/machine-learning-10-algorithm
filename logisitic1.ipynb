{
 "cells": [
  {
   "cell_type": "code",
   "execution_count": 1,
   "id": "5a75060b",
   "metadata": {},
   "outputs": [],
   "source": [
    "from sklearn.linear_model import LogisticRegression\n",
    "from sklearn.datasets import make_classification\n",
    "from sklearn.preprocessing import StandardScaler\n",
    "from sklearn.model_selection import train_test_split # to avoid overfitting\n",
    "from sklearn.metrics import confusion_matrix,accuracy_score,classification_report\n",
    "import pandas as pd\n",
    "import numpy as np\n",
    "import matplotlib.pyplot as plt\n",
    "\n"
   ]
  },
  {
   "cell_type": "code",
   "execution_count": 2,
   "id": "eb3339e9",
   "metadata": {
    "scrolled": true
   },
   "outputs": [
    {
     "name": "stdout",
     "output_type": "stream",
     "text": [
      "training input samples\n",
      "----------------------\n",
      "[[ 2.67343206]\n",
      " [-0.78599381]\n",
      " [-0.29586514]\n",
      " [ 1.5717733 ]\n",
      " [ 1.62514732]\n",
      " [-2.38374254]\n",
      " [ 1.65523966]\n",
      " [ 1.66753039]\n",
      " [-0.4180431 ]\n",
      " [-0.76123362]]\n",
      "output class labels\n",
      "----------------------\n",
      "[1 0 0 1 1 0 1 1 0 0]\n"
     ]
    }
   ],
   "source": [
    "x,y=make_classification(n_samples=300,n_features=1,n_classes=2,\n",
    "                        n_clusters_per_class=1,flip_y=0.02,\n",
    "                        n_informative=1,n_redundant=0,n_repeated=0)\n",
    "print('training input samples\\n----------------------')\n",
    "print(x[:10]) # displays first 10 values of x\n",
    "print('output class labels\\n----------------------')\n",
    "print(y[:10])# displays first 10 values of y\n",
    "\n"
   ]
  },
  {
   "cell_type": "code",
   "execution_count": 3,
   "id": "c141f0af",
   "metadata": {
    "scrolled": true
   },
   "outputs": [
    {
     "data": {
      "image/png": "[encoded data removed]",
      "text/plain": [
       "<Figure size 640x480 with 1 Axes>"
      ]
     },
     "metadata": {},
     "output_type": "display_data"
    }
   ],
   "source": [
    "plt.scatter(x,y,c=y,cmap='brg')\n",
    "plt.show()"
   ]
  },
  {
   "cell_type": "code",
   "execution_count": 4,
   "id": "225677c9",
   "metadata": {},
   "outputs": [
    {
     "name": "stdout",
     "output_type": "stream",
     "text": [
      "training input sample (240, 1)\n",
      "training output label (240,)\n",
      "testing input sample (60, 1)\n",
      "testing output label (60,)\n"
     ]
    }
   ],
   "source": [
    "xtrain,xtest,ytrain,ytest = train_test_split(x,y,random_state=1,test_size=0.20)\n",
    "# 80 - 20 , 75 - 25 \n",
    "\n",
    "# xtrain - training input sample (240)\n",
    "# xtest - testing input sample (60)\n",
    "# ytrain - training target class label value(240)\n",
    "# ytest - testing target class label value(60)\n",
    "\n",
    "print('training input sample',xtrain.shape)\n",
    "print('training output label',ytrain.shape)\n",
    "\n",
    "print('testing input sample',xtest.shape)\n",
    "print('testing output label',ytest.shape)"
   ]
  },
  {
   "cell_type": "code",
   "execution_count": null,
   "id": "5ccb1b53",
   "metadata": {},
   "outputs": [],
   "source": []
  },
  {
   "cell_type": "code",
   "execution_count": 5,
   "id": "64deff8f",
   "metadata": {},
   "outputs": [],
   "source": [
    "log_reg = LogisticRegression()\n",
    "log_reg.fit(xtrain,ytrain)\n",
    "\n",
    "ypre = log_reg.predict(xtest)\n",
    "# ypre - machine predicted output for 20% testing input samples\n",
    "# ytest - original/ actual output for 20% of testing input samples\n"
   ]
  },
  {
   "cell_type": "code",
   "execution_count": 6,
   "id": "2349e3d1",
   "metadata": {},
   "outputs": [
    {
     "name": "stdout",
     "output_type": "stream",
     "text": [
      "[[24  2]\n",
      " [ 5 29]]\n"
     ]
    }
   ],
   "source": [
    "print(confusion_matrix(ytest,ypre))# ytest - actual output ypre-model predicted o/p\n",
    "\n",
    "# loss = y - y^\n",
    "\n",
    "# y - ytest\n",
    "# y^ - ypre\n",
    "\n",
    "# 35 0  ----- total 60 testing samples (35-0, 25-1)\n",
    "# 2  23"
   ]
  },
  {
   "cell_type": "code",
   "execution_count": 7,
   "id": "9f0c878e",
   "metadata": {},
   "outputs": [
    {
     "name": "stdout",
     "output_type": "stream",
     "text": [
      "              precision    recall  f1-score   support\n",
      "\n",
      "           0       0.83      0.92      0.87        26\n",
      "           1       0.94      0.85      0.89        34\n",
      "\n",
      "    accuracy                           0.88        60\n",
      "   macro avg       0.88      0.89      0.88        60\n",
      "weighted avg       0.89      0.88      0.88        60\n",
      "\n"
     ]
    }
   ],
   "source": [
    "print(classification_report(ytest,ypre))"
   ]
  },
  {
   "cell_type": "code",
   "execution_count": 8,
   "id": "4822c30e",
   "metadata": {},
   "outputs": [
    {
     "name": "stdout",
     "output_type": "stream",
     "text": [
      "88.33333333333333 %\n"
     ]
    }
   ],
   "source": [
    "print(accuracy_score(ytest,ypre)*100,'%')"
   ]
  },
  {
   "cell_type": "code",
   "execution_count": null,
   "id": "1a5a3b1f",
   "metadata": {},
   "outputs": [],
   "source": []
  },
  {
   "cell_type": "code",
   "execution_count": null,
   "id": "ae2431ce",
   "metadata": {},
   "outputs": [],
   "source": []
  },
  {
   "cell_type": "code",
   "execution_count": null,
   "id": "f7242043",
   "metadata": {},
   "outputs": [],
   "source": []
  },
  {
   "cell_type": "code",
   "execution_count": null,
   "id": "024b8adb",
   "metadata": {},
   "outputs": [],
   "source": []
  }
 ],
 "metadata": {
  "kernelspec": {
   "display_name": "Python 3 (ipykernel)",
   "language": "python",
   "name": "python3"
  },
  "language_info": {
   "codemirror_mode": {
    "name": "ipython",
    "version": 3
   },
   "file_extension": ".py",
   "mimetype": "text/x-python",
   "name": "python",
   "nbconvert_exporter": "python",
   "pygments_lexer": "ipython3",
   "version": "3.10.9"
  }
 },
 "nbformat": 4,
 "nbformat_minor": 5
}
