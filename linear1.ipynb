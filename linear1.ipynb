{
 "cells": [
  {
   "cell_type": "markdown",
   "id": "2a733030",
   "metadata": {},
   "source": [
    "# linear 1 using (name.csv)"
   ]
  },
  {
   "cell_type": "code",
   "execution_count": 1,
   "id": "c4f087d1",
   "metadata": {},
   "outputs": [],
   "source": [
    "# import required packages\n",
    "from sklearn.linear_model import LinearRegression\n",
    "from sklearn.metrics import mean_squared_error\n",
    "import pandas as pd\n",
    "import numpy as np"
   ]
  },
  {
   "cell_type": "code",
   "execution_count": 2,
   "id": "f5fe7f12",
   "metadata": {},
   "outputs": [
    {
     "data": {
      "text/html": [
       "<div>\n",
       "<style scoped>\n",
       "    .dataframe tbody tr th:only-of-type {\n",
       "        vertical-align: middle;\n",
       "    }\n",
       "\n",
       "    .dataframe tbody tr th {\n",
       "        vertical-align: top;\n",
       "    }\n",
       "\n",
       "    .dataframe thead th {\n",
       "        text-align: right;\n",
       "    }\n",
       "</style>\n",
       "<table border=\"1\" class=\"dataframe\">\n",
       "  <thead>\n",
       "    <tr style=\"text-align: right;\">\n",
       "      <th></th>\n",
       "      <th>Weight</th>\n",
       "      <th>Height</th>\n",
       "    </tr>\n",
       "  </thead>\n",
       "  <tbody>\n",
       "    <tr>\n",
       "      <th>0</th>\n",
       "      <td>56</td>\n",
       "      <td>1.60</td>\n",
       "    </tr>\n",
       "    <tr>\n",
       "      <th>1</th>\n",
       "      <td>66</td>\n",
       "      <td>1.45</td>\n",
       "    </tr>\n",
       "    <tr>\n",
       "      <th>2</th>\n",
       "      <td>77</td>\n",
       "      <td>1.44</td>\n",
       "    </tr>\n",
       "    <tr>\n",
       "      <th>3</th>\n",
       "      <td>56</td>\n",
       "      <td>1.50</td>\n",
       "    </tr>\n",
       "    <tr>\n",
       "      <th>4</th>\n",
       "      <td>34</td>\n",
       "      <td>1.07</td>\n",
       "    </tr>\n",
       "    <tr>\n",
       "      <th>5</th>\n",
       "      <td>56</td>\n",
       "      <td>1.63</td>\n",
       "    </tr>\n",
       "    <tr>\n",
       "      <th>6</th>\n",
       "      <td>23</td>\n",
       "      <td>1.22</td>\n",
       "    </tr>\n",
       "    <tr>\n",
       "      <th>7</th>\n",
       "      <td>45</td>\n",
       "      <td>1.35</td>\n",
       "    </tr>\n",
       "    <tr>\n",
       "      <th>8</th>\n",
       "      <td>23</td>\n",
       "      <td>1.33</td>\n",
       "    </tr>\n",
       "    <tr>\n",
       "      <th>9</th>\n",
       "      <td>89</td>\n",
       "      <td>1.07</td>\n",
       "    </tr>\n",
       "    <tr>\n",
       "      <th>10</th>\n",
       "      <td>104</td>\n",
       "      <td>1.45</td>\n",
       "    </tr>\n",
       "    <tr>\n",
       "      <th>11</th>\n",
       "      <td>34</td>\n",
       "      <td>1.02</td>\n",
       "    </tr>\n",
       "    <tr>\n",
       "      <th>12</th>\n",
       "      <td>58</td>\n",
       "      <td>1.00</td>\n",
       "    </tr>\n",
       "    <tr>\n",
       "      <th>13</th>\n",
       "      <td>65</td>\n",
       "      <td>1.60</td>\n",
       "    </tr>\n",
       "    <tr>\n",
       "      <th>14</th>\n",
       "      <td>76</td>\n",
       "      <td>1.59</td>\n",
       "    </tr>\n",
       "    <tr>\n",
       "      <th>15</th>\n",
       "      <td>59</td>\n",
       "      <td>1.58</td>\n",
       "    </tr>\n",
       "    <tr>\n",
       "      <th>16</th>\n",
       "      <td>95</td>\n",
       "      <td>1.57</td>\n",
       "    </tr>\n",
       "    <tr>\n",
       "      <th>17</th>\n",
       "      <td>98</td>\n",
       "      <td>1.55</td>\n",
       "    </tr>\n",
       "    <tr>\n",
       "      <th>18</th>\n",
       "      <td>89</td>\n",
       "      <td>1.45</td>\n",
       "    </tr>\n",
       "    <tr>\n",
       "      <th>19</th>\n",
       "      <td>34</td>\n",
       "      <td>1.44</td>\n",
       "    </tr>\n",
       "  </tbody>\n",
       "</table>\n",
       "</div>"
      ],
      "text/plain": [
       "    Weight  Height\n",
       "0       56    1.60\n",
       "1       66    1.45\n",
       "2       77    1.44\n",
       "3       56    1.50\n",
       "4       34    1.07\n",
       "5       56    1.63\n",
       "6       23    1.22\n",
       "7       45    1.35\n",
       "8       23    1.33\n",
       "9       89    1.07\n",
       "10     104    1.45\n",
       "11      34    1.02\n",
       "12      58    1.00\n",
       "13      65    1.60\n",
       "14      76    1.59\n",
       "15      59    1.58\n",
       "16      95    1.57\n",
       "17      98    1.55\n",
       "18      89    1.45\n",
       "19      34    1.44"
      ]
     },
     "execution_count": 2,
     "metadata": {},
     "output_type": "execute_result"
    }
   ],
   "source": [
    "# load data\n",
    "data = pd.read_csv(r\"C:\\Users\\user\\Desktop\\ML Algorithm\\Name.csv\") # create file with Weight & Height\n",
    "data\n"
   ]
  },
  {
   "cell_type": "code",
   "execution_count": 3,
   "id": "eda2c988",
   "metadata": {},
   "outputs": [
    {
     "data": {
      "text/plain": [
       "(20, 2)"
      ]
     },
     "execution_count": 3,
     "metadata": {},
     "output_type": "execute_result"
    }
   ],
   "source": [
    "data.shape"
   ]
  },
  {
   "cell_type": "code",
   "execution_count": 4,
   "id": "208309d3",
   "metadata": {},
   "outputs": [
    {
     "data": {
      "text/plain": [
       "array([ 56,  66,  77,  56,  34,  56,  23,  45,  23,  89, 104,  34,  58,\n",
       "        65,  76,  59,  95,  98,  89,  34], dtype=int64)"
      ]
     },
     "execution_count": 4,
     "metadata": {},
     "output_type": "execute_result"
    }
   ],
   "source": [
    "# prepare our data so that model can be fitted\n",
    "X = data.Weight.values\n",
    "X\n"
   ]
  },
  {
   "cell_type": "code",
   "execution_count": 5,
   "id": "d123d134",
   "metadata": {},
   "outputs": [
    {
     "data": {
      "text/plain": [
       "array([[ 56],\n",
       "       [ 66],\n",
       "       [ 77],\n",
       "       [ 56],\n",
       "       [ 34],\n",
       "       [ 56],\n",
       "       [ 23],\n",
       "       [ 45],\n",
       "       [ 23],\n",
       "       [ 89],\n",
       "       [104],\n",
       "       [ 34],\n",
       "       [ 58],\n",
       "       [ 65],\n",
       "       [ 76],\n",
       "       [ 59],\n",
       "       [ 95],\n",
       "       [ 98],\n",
       "       [ 89],\n",
       "       [ 34]], dtype=int64)"
      ]
     },
     "execution_count": 5,
     "metadata": {},
     "output_type": "execute_result"
    }
   ],
   "source": [
    "X = X.reshape(-1,1)\n",
    "X\n",
    "\n"
   ]
  },
  {
   "cell_type": "code",
   "execution_count": 6,
   "id": "165fd203",
   "metadata": {},
   "outputs": [
    {
     "data": {
      "text/plain": [
       "array([1.6 , 1.45, 1.44, 1.5 , 1.07, 1.63, 1.22, 1.35, 1.33, 1.07, 1.45,\n",
       "       1.02, 1.  , 1.6 , 1.59, 1.58, 1.57, 1.55, 1.45, 1.44])"
      ]
     },
     "execution_count": 6,
     "metadata": {},
     "output_type": "execute_result"
    }
   ],
   "source": [
    "y = data.Height.values\n",
    "y"
   ]
  },
  {
   "cell_type": "code",
   "execution_count": 7,
   "id": "398dbf35",
   "metadata": {},
   "outputs": [],
   "source": [
    "# initializing model\n",
    "\n",
    "linreg = LinearRegression()\n",
    "\n",
    "# fiiting training data\n",
    "\n",
    "model = linreg.fit(X,y)\n",
    "\n",
    "# target prediction\n",
    "\n",
    "ypre = model.predict(X) # xtrain,xtest,ytrain,ytest\n",
    "\n"
   ]
  },
  {
   "cell_type": "code",
   "execution_count": 8,
   "id": "919efd76",
   "metadata": {},
   "outputs": [
    {
     "data": {
      "text/plain": [
       "array([1.6 , 1.45, 1.44, 1.5 , 1.07, 1.63, 1.22, 1.35, 1.33, 1.07, 1.45,\n",
       "       1.02, 1.  , 1.6 , 1.59, 1.58, 1.57, 1.55, 1.45, 1.44])"
      ]
     },
     "execution_count": 8,
     "metadata": {},
     "output_type": "execute_result"
    }
   ],
   "source": [
    "y # actual output"
   ]
  },
  {
   "cell_type": "code",
   "execution_count": 9,
   "id": "b6e54aad",
   "metadata": {},
   "outputs": [
    {
     "data": {
      "text/plain": [
       "array([1.37734331, 1.40838038, 1.44252116, 1.37734331, 1.30906176,\n",
       "       1.37734331, 1.27492099, 1.34320254, 1.27492099, 1.47976564,\n",
       "       1.52632124, 1.30906176, 1.38355073, 1.40527668, 1.43941745,\n",
       "       1.38665444, 1.49838788, 1.507699  , 1.47976564, 1.30906176])"
      ]
     },
     "execution_count": 9,
     "metadata": {},
     "output_type": "execute_result"
    }
   ],
   "source": [
    "ypre # predicted output"
   ]
  },
  {
   "cell_type": "code",
   "execution_count": 10,
   "id": "a100126c",
   "metadata": {},
   "outputs": [
    {
     "name": "stdout",
     "output_type": "stream",
     "text": [
      "training time errors: 0.13690621735623876\n",
      "testing time errors: 0.18983747027614067\n"
     ]
    }
   ],
   "source": [
    "# model evaluation\n",
    "mse = mean_squared_error(y,ypre) # ((y-yhat)**2/n-2)\n",
    "rmse = np.sqrt(mse) # SQRT(mse)\n",
    "\n",
    "score_value = linreg.score(X,y)\n",
    "\n",
    "print('training time errors:',score_value)\n",
    "print('testing time errors:',rmse)\n",
    "\n"
   ]
  },
  {
   "cell_type": "code",
   "execution_count": 11,
   "id": "fe3d97ef",
   "metadata": {},
   "outputs": [
    {
     "name": "stdout",
     "output_type": "stream",
     "text": [
      "models - training - accuracy score is: 86 %\n",
      "models - testing - accuracy score is: 81 %\n"
     ]
    }
   ],
   "source": [
    "print('models - training - accuracy score is:',int((100-(score_value*100))),'%')\n",
    "\n",
    "print('models - testing - accuracy score is:',int((100-(rmse*100))),'%')"
   ]
  },
  {
   "cell_type": "code",
   "execution_count": null,
   "id": "4d35a229",
   "metadata": {},
   "outputs": [],
   "source": []
  },
  {
   "cell_type": "code",
   "execution_count": null,
   "id": "6d7e5126",
   "metadata": {},
   "outputs": [],
   "source": []
  },
  {
   "cell_type": "code",
   "execution_count": null,
   "id": "e3c8b000",
   "metadata": {},
   "outputs": [],
   "source": []
  },
  {
   "cell_type": "code",
   "execution_count": null,
   "id": "5edafdff",
   "metadata": {},
   "outputs": [],
   "source": []
  }
 ],
 "metadata": {
  "kernelspec": {
   "display_name": "Python 3 (ipykernel)",
   "language": "python",
   "name": "python3"
  },
  "language_info": {
   "codemirror_mode": {
    "name": "ipython",
    "version": 3
   },
   "file_extension": ".py",
   "mimetype": "text/x-python",
   "name": "python",
   "nbconvert_exporter": "python",
   "pygments_lexer": "ipython3",
   "version": "3.10.9"
  }
 },
 "nbformat": 4,
 "nbformat_minor": 5
}
